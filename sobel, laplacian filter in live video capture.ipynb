{
 "cells": [
  {
   "cell_type": "code",
   "execution_count": 2,
   "id": "a77cb746",
   "metadata": {},
   "outputs": [],
   "source": [
    "import cv2\n",
    "import numpy as np\n",
    "\n",
    "# Reading livestream from main camera\n",
    "cap = cv2.VideoCapture(0)\n",
    "\n",
    "while True:\n",
    "    ret, frame = cap.read()\n",
    "    # Converting to HSV for simpler calculations\n",
    "    hsv = cv2.cvtColor(frame, cv2.COLOR_BGR2HSV)\n",
    "    # Calculation of sobelX\n",
    "    sobelX = cv2.Sobel(frame, cv2.CV_64F, 1, 0, ksize=5)\n",
    "    # Calculation of sobelX\n",
    "    sobelY = cv2.Sobel(frame, cv2.CV_64F, 0, 1, ksize=5)\n",
    "    # Adding sobelX and sobelY\n",
    "#     sobelXY = cv2.A\n",
    "    # Calculation of Laplacian\n",
    "    laplacian = cv2.Laplacian(frame, cv2.CV_64F)\n",
    "\n",
    "    cv2.imshow('original', hsv)\n",
    "    cv2.imshow('sobelX', sobelX)\n",
    "    cv2.imshow('sobelY', sobelY)\n",
    "    cv2.imshow('laplacian', laplacian)\n",
    "\n",
    "    k = cv2.waitKey(1) & 0xFF\n",
    "    if k == 27:\n",
    "        break\n",
    "cv2.destroyAllWindows()\n",
    "# release the frame\n",
    "cap.release()\n"
   ]
  }
 ],
 "metadata": {
  "kernelspec": {
   "display_name": "Python 3 (ipykernel)",
   "language": "python",
   "name": "python3"
  },
  "language_info": {
   "codemirror_mode": {
    "name": "ipython",
    "version": 3
   },
   "file_extension": ".py",
   "mimetype": "text/x-python",
   "name": "python",
   "nbconvert_exporter": "python",
   "pygments_lexer": "ipython3",
   "version": "3.9.12"
  }
 },
 "nbformat": 4,
 "nbformat_minor": 5
}
