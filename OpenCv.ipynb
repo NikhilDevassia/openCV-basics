{
 "cells": [
  {
   "cell_type": "markdown",
   "id": "d0d7a335",
   "metadata": {},
   "source": [
    "# openCV"
   ]
  },
  {
   "cell_type": "code",
   "execution_count": 1,
   "id": "9cbe0140",
   "metadata": {},
   "outputs": [
    {
     "name": "stdout",
     "output_type": "stream",
     "text": [
      "[[[128 138 225]\n",
      "  [127 137 224]\n",
      "  [126 136 224]\n",
      "  ...\n",
      "  [126 145 236]\n",
      "  [110 129 220]\n",
      "  [ 86 104 197]]\n",
      "\n",
      " [[127 137 224]\n",
      "  [127 137 224]\n",
      "  [127 137 224]\n",
      "  ...\n",
      "  [130 150 235]\n",
      "  [112 132 217]\n",
      "  [ 83 102 189]]\n",
      "\n",
      " [[127 137 224]\n",
      "  [127 137 224]\n",
      "  [128 138 225]\n",
      "  ...\n",
      "  [127 148 230]\n",
      "  [112 133 215]\n",
      "  [ 85 105 190]]\n",
      "\n",
      " ...\n",
      "\n",
      " [[ 55  21  82]\n",
      "  [ 54  20  81]\n",
      "  [ 62  28  92]\n",
      "  ...\n",
      "  [ 82  71 175]\n",
      "  [ 78  68 175]\n",
      "  [ 74  65 175]]\n",
      "\n",
      " [[ 55  18  80]\n",
      "  [ 56  19  81]\n",
      "  [ 66  32  96]\n",
      "  ...\n",
      "  [ 82  69 177]\n",
      "  [ 80  71 181]\n",
      "  [ 81  72 183]]\n",
      "\n",
      " [[ 56  19  81]\n",
      "  [ 58  21  83]\n",
      "  [ 68  34  98]\n",
      "  ...\n",
      "  [ 81  68 176]\n",
      "  [ 81  72 183]\n",
      "  [ 84  74 188]]]\n"
     ]
    }
   ],
   "source": [
    "import cv2\n",
    "\n",
    "img = cv2.imread('lena.jpg', 1) #read image 1)color, 0)grayscale, -1)Load image including alpha channel(degree of transparancy)\n",
    "print(img) # print images in the form of array\n",
    "cv2.imshow('image', img) # display image\n",
    "k = cv2.waitKey(0)  # showing img for 5 sec\n",
    "\n",
    "if k == 27:  # if someone press esc key\n",
    "    cv2.destroyAllWindows()\n",
    "elif k == ord('s'): # if someone press s key\n",
    "    cv2.imwrite('lena_image.png', img)\n"
   ]
  },
  {
   "cell_type": "markdown",
   "id": "f1221546",
   "metadata": {},
   "source": [
    "## Live video sharing"
   ]
  },
  {
   "cell_type": "code",
   "execution_count": 2,
   "id": "530187e2",
   "metadata": {},
   "outputs": [
    {
     "name": "stdout",
     "output_type": "stream",
     "text": [
      "True\n"
     ]
    }
   ],
   "source": [
    "import cv2\n",
    "\n",
    "cap = cv2.VideoCapture(0);# 0 means the main camera if have multiple camera the can give 1,2,3..\n",
    "print(cap.isOpened()) # return true if video is opened else False\n",
    "while (cap.isOpened()):\n",
    "    ret, frame = cap.read() # ret boolean field return True if frame present else Fasle\n",
    "\n",
    "    print(cap.get(cv2.CAP_PROP_FRAME_WIDTH))\n",
    "    print(cap.get(cv2.CAP_PROP_FRAME_HEIGHT))\n",
    "\n",
    "    gray = cv2.cvtColor(frame, cv2.COLOR_RGB2GRAY)\n",
    "    cv2.imshow('frame', gray)\n",
    "\n",
    "    if cv2.waitKey(1) == ord('q'):\n",
    "        break\n",
    "cap.release()\n",
    "cv2.destroyAllWindows()\n"
   ]
  },
  {
   "cell_type": "markdown",
   "id": "7e7375ad",
   "metadata": {},
   "source": [
    "## Saving video using fourcc\n",
    "#### FourCC is a 4-byte code used to specify the video codec"
   ]
  },
  {
   "cell_type": "code",
   "execution_count": 2,
   "id": "2694dc08",
   "metadata": {},
   "outputs": [
    {
     "name": "stdout",
     "output_type": "stream",
     "text": [
      "True\n"
     ]
    }
   ],
   "source": [
    "cap = cv2.VideoCapture(0)\n",
    "\n",
    "fourcc = cv2.VideoWriter_fourcc(*'XVID')\n",
    "out = cv2.VideoWriter('output.avi', fourcc, 20.0, (640, 480))\n",
    "#out = cv2.VideoWriter('vide_name.avi', fourcc, fps, (size))\n",
    "\n",
    "print(cap.isOpened())\n",
    "while(cap.isOpened()):\n",
    "    ret, frame = cap.read()\n",
    "    if ret == True:\n",
    "        out.write(frame)\n",
    "\n",
    "        gray = cv2.cvtColor(frame, cv2.COLOR_BGR2GRAY)\n",
    "        cv2.imshow('frame', gray)\n",
    "\n",
    "        if cv2.waitKey(1) & 0xFF == ord('q'):\n",
    "            break\n",
    "    else:\n",
    "        break\n",
    "cap.release()\n",
    "out.release()\n",
    "cv2.destroyAllWindows()"
   ]
  },
  {
   "cell_type": "markdown",
   "id": "26a7f54c",
   "metadata": {},
   "source": [
    "## Draw geometric shapes on images using Python OpenCV\n",
    "p1-Starting co-ordinates\n",
    "<br>\n",
    "p2-Ending co-ordinates"
   ]
  },
  {
   "cell_type": "code",
   "execution_count": 73,
   "id": "3f781da2",
   "metadata": {},
   "outputs": [],
   "source": [
    "import numpy as np\n",
    "import cv2\n",
    "\n",
    "img = cv2.imread('lena.jpg',1)\n",
    "\n",
    "#img = cv2.line(img, p1, p2, (BGR), thickness)\n",
    "img = cv2.line(img, (0,0), (255,255), (0,0,255), 3)\n",
    "\n",
    "img = cv2.arrowedLine(img, (0,255), (255,255), (255,0,0), 3)\n",
    "\n",
    "img = cv2.rectangle(img, (384, 0), (510, 128), (0, 0, 255), 10)\n",
    "\n",
    "# img = cv2.circle(img, center, radius, color, thickness)\n",
    "img = cv2.circle(img, (447,63), 63, (0,255,0), -1) #-1 fill whole circle\n",
    "\n",
    "#put text on image\n",
    "#cv2.putText(img, text, co-ordinate, font-face)\n",
    "font_face = cv2.FONT_HERSHEY_SIMPLEX\n",
    "img = cv2.putText(img, 'OpenCv', (10, 500), font_face, 4, (0, 255, 255), 10, cv2.LINE_AA)\n",
    "\n",
    "cv2.imshow('image',img)\n",
    "\n",
    "cv2.waitKey(0)\n",
    "cv2.destroyAllWindows()"
   ]
  },
  {
   "cell_type": "markdown",
   "id": "e13159f8",
   "metadata": {},
   "source": [
    "## Changin resolution of camera\n",
    "#### set some properties to captured images<br>\n",
    "#### cap.set(self, propId, value)"
   ]
  },
  {
   "cell_type": "code",
   "execution_count": 3,
   "id": "b9c98bcb",
   "metadata": {},
   "outputs": [
    {
     "name": "stdout",
     "output_type": "stream",
     "text": [
      "640.0\n",
      "480.0\n",
      "1280.0\n",
      "720.0\n"
     ]
    }
   ],
   "source": [
    "import cv2\n",
    "cap = cv2.VideoCapture(0)\n",
    "print(cap.get(cv2.CAP_PROP_FRAME_WIDTH))\n",
    "print(cap.get(cv2.CAP_PROP_FRAME_HEIGHT))\n",
    "\n",
    "cap.set(3, 1280)\n",
    "cap.set(4, 720)\n",
    "\n",
    "\n",
    "print(cap.get(3))\n",
    "print(cap.get(4))\n",
    "\n",
    "while(cap.isOpened()):\n",
    "    ret, frame = cap.read()\n",
    "    if ret == True:\n",
    "\n",
    "        gray = cv2.cvtColor(frame, cv2.COLOR_BGR2GRAY)\n",
    "        cv2.imshow('frame', gray)\n",
    "\n",
    "        if cv2.waitKey(1) & 0xFF == ord('q'):\n",
    "            break\n",
    "    else:\n",
    "        break\n",
    "        \n",
    "cap.release()\n",
    "cv2.destroyAllWindows()"
   ]
  },
  {
   "cell_type": "markdown",
   "id": "7ec9650e",
   "metadata": {},
   "source": [
    "## Texing & Date Time on video "
   ]
  },
  {
   "cell_type": "code",
   "execution_count": 6,
   "id": "23ca4f94",
   "metadata": {},
   "outputs": [],
   "source": [
    "import datetime\n",
    "import cv2\n",
    "\n",
    "cap = cv2.VideoCapture(0)\n",
    "cap.set(3, 1280)\n",
    "cap.set(4, 720)\n",
    "# print(cap.get(3))\n",
    "# print(cap.get(4))\n",
    "while cap.isOpened():\n",
    "    ret, frame = cap.read()\n",
    "    if ret == True:\n",
    "        font = cv2.FONT_HERSHEY_SIMPLEX #font style(font-face)\n",
    "        text = 'Width: '+ str(cap.get(3)) + 'Height:' + str(cap.get(4)) #converting value to string\n",
    "        datet = str(datetime.datetime.now()) #converting value to string\n",
    "        frame = cv2.putText(frame, datet, (10, 50), font, 1,(0, 255, 255), 2, cv2.LINE_AA)\n",
    "        cv2.imshow('frame', frame)\n",
    "\n",
    "        if cv2.waitKey(1) & 0xFF == ord('q'):\n",
    "            break\n",
    "    else:\n",
    "        break\n",
    "\n",
    "cap.release()\n",
    "cv2.destroyAllWindows()\n"
   ]
  },
  {
   "cell_type": "markdown",
   "id": "67a83488",
   "metadata": {},
   "source": [
    "## Handle Mouse Events\n",
    "#### cv2.setMouseCallback()"
   ]
  },
  {
   "cell_type": "code",
   "execution_count": 68,
   "id": "a1675665",
   "metadata": {},
   "outputs": [
    {
     "name": "stdout",
     "output_type": "stream",
     "text": [
      "81 , 135\n",
      "232 , 242\n",
      "356 , 26\n"
     ]
    }
   ],
   "source": [
    "import numpy as np\n",
    "import cv2\n",
    "\n",
    "# event = [i for i in dir(cv2) if 'EVENT' in i] # print all the EVENT\n",
    "# print(event)\n",
    "\n",
    "def click_event(event, x, y, flags, param):\n",
    "    if event == cv2.EVENT_LBUTTONDOWN: # left moust button event\n",
    "        print(x,',',y)\n",
    "        font = cv2.FONT_HERSHEY_COMPLEX\n",
    "        strXY = str(x) + ', ' + str(y) # converting to string\n",
    "        cv2.putText(img, strXY, (x,y), font, 1, (255, 255, 0), 2)\n",
    "        cv2.imshow('image', img)\n",
    "\n",
    "img = np.zeros((512, 512, 3), np.uint8) # black image using numpy \n",
    "cv2.imshow('image', img)\n",
    "\n",
    "cv2.setMouseCallback('image', click_event)\n",
    "\n",
    "cv2.waitKey(0)\n",
    "cv2.destroyAllWindows()"
   ]
  },
  {
   "cell_type": "markdown",
   "id": "7614ecb1",
   "metadata": {},
   "source": [
    "#### Showing co-ordiantes and RGB color"
   ]
  },
  {
   "cell_type": "code",
   "execution_count": 71,
   "id": "ed338573",
   "metadata": {},
   "outputs": [
    {
     "name": "stdout",
     "output_type": "stream",
     "text": [
      "142 , 145\n"
     ]
    }
   ],
   "source": [
    "import numpy as np\n",
    "import cv2\n",
    "\n",
    "# event = [i for i in dir(cv2) if 'EVENT' in i] # print all the EVENT\n",
    "# print(event)\n",
    "\n",
    "def click_event(event, x, y, flags, param):\n",
    "    if event == cv2.EVENT_LBUTTONDOWN:\n",
    "        print(x,',',y)\n",
    "        font = cv2.FONT_HERSHEY_COMPLEX\n",
    "        strXY = str(x) + ', ' + str(y)\n",
    "        cv2.putText(img, strXY, (x,y), font, 1, (255, 255, 0), 2)\n",
    "        cv2.imshow('image', img)\n",
    "    \n",
    "    if event == cv2.EVENT_RBUTTONDOWN:\n",
    "        blue = img[y, x, 0]\n",
    "        green = img[y, x, 1]\n",
    "        red = img[y, x, 2]\n",
    "        font = cv2.FONT_HERSHEY_COMPLEX\n",
    "        strBGR = str(blue) + ', ' + str(green) + ', ' + str(red)\n",
    "        cv2.putText(img, strBGR, (x,y), font, .5, (0, 255, 255), 2)\n",
    "        cv2.imshow('image',img)\n",
    "        \n",
    "# img = np.zeros((512, 512, 3), np.uint8) # creating black image using numpy\n",
    "img = cv2.imread('messi.jpg', 1)\n",
    "cv2.imshow('image', img)\n",
    "\n",
    "cv2.setMouseCallback('image', click_event)\n",
    "\n",
    "cv2.waitKey(0)\n",
    "cv2.destroyAllWindows()\n"
   ]
  },
  {
   "cell_type": "markdown",
   "id": "1673b56a",
   "metadata": {},
   "source": [
    "#### Connecting click events using cv2.line"
   ]
  },
  {
   "cell_type": "code",
   "execution_count": 72,
   "id": "682a09b6",
   "metadata": {},
   "outputs": [],
   "source": [
    "import numpy as np\n",
    "import cv2\n",
    "\n",
    "def click_event(event, x, y, flags, param):\n",
    "    if event == cv2.EVENT_LBUTTONDOWN:\n",
    "        cv2.circle(img, (x,y), 3, (0,0,255), -1)\n",
    "        points.append((x,y))\n",
    "    \n",
    "    if len(points) >= 2: # if points list have more than 2 values \n",
    "        cv2.line(img, points[-1], points[-2], (0,0,255), 1)\n",
    "    cv2.imshow('image', img)\n",
    "img = np.zeros((512, 512, 3), np.uint8)\n",
    "cv2.imshow('image', img)\n",
    "points = []\n",
    "cv2.setMouseCallback('image', click_event)\n",
    "\n",
    "cv2.waitKey(0)\n",
    "cv2.destroyAllWindows()"
   ]
  },
  {
   "cell_type": "markdown",
   "id": "b3517142",
   "metadata": {},
   "source": [
    "#### Adding click event to show image colour in the clicked position"
   ]
  },
  {
   "cell_type": "code",
   "execution_count": 41,
   "id": "8bc4f035",
   "metadata": {},
   "outputs": [],
   "source": [
    "import numpy as np\n",
    "import cv2\n",
    "\n",
    "def click_event(event, x, y, flags, param):\n",
    "    if event == cv2.EVENT_LBUTTONDOWN:\n",
    "        blue = img[x, y, 0]\n",
    "        green = img[x, y, 1]\n",
    "        red = img[x, y, 2]\n",
    "        mycolorImg = np.zeros((512, 512, 3), np.uint8)\n",
    "        mycolorImg[:] = [blue, green, red]\n",
    "        cv2.imshow('color', mycolorImg)\n",
    "        \n",
    "img = cv2.imread('lena.jpg', 1)\n",
    "cv2.imshow('image', img)\n",
    "\n",
    "cv2.setMouseCallback('image', click_event)\n",
    "\n",
    "cv2.waitKey(0)\n",
    "cv2.destroyAllWindows()"
   ]
  },
  {
   "cell_type": "markdown",
   "id": "730bd02e",
   "metadata": {},
   "source": [
    "## Arithmetic operation using openCV"
   ]
  },
  {
   "cell_type": "code",
   "execution_count": 113,
   "id": "5e8ca74c",
   "metadata": {},
   "outputs": [
    {
     "name": "stdout",
     "output_type": "stream",
     "text": [
      "(679, 1020, 3)\n",
      "2077740\n",
      "uint8\n"
     ]
    }
   ],
   "source": [
    "import numpy as np\n",
    "import cv2\n",
    "       \n",
    "img = cv2.imread('messi.jpg', 1)\n",
    "\n",
    "print(img.shape) # return the number of rows, columns, and channels\n",
    "print(img.size) # return tottal number of pixels\n",
    "print(img.dtype) # return datatype of img\n",
    "\n",
    "b,g,r = cv2.split(img) # split bgr channels to b, g, r\n",
    "img = cv2.merge((b,g,r)) \n",
    "\n",
    "ball = img[280:340, 330:390] # selecting a part in the image and add in another location\n",
    "img[273:333, 100:160] = ball\n",
    "\n",
    "\n",
    "\n",
    "cv2.imshow('image', img)\n",
    "cv2.waitKey(0)\n",
    "cv2.destroyAllWindows()"
   ]
  },
  {
   "cell_type": "markdown",
   "id": "178ae2e5",
   "metadata": {},
   "source": [
    "### Add two images\n",
    "##### In order to add two images need to have the images or the arrays of same size"
   ]
  },
  {
   "cell_type": "code",
   "execution_count": 122,
   "id": "43a6ec4b",
   "metadata": {},
   "outputs": [
    {
     "name": "stdout",
     "output_type": "stream",
     "text": [
      "(679, 1020, 3)\n",
      "(850, 940, 3)\n"
     ]
    }
   ],
   "source": [
    "import cv2\n",
    "\n",
    "img = cv2.imread('messi.jpg')\n",
    "img2 = cv2.imread('spider.png')\n",
    "\n",
    "\n",
    "print(img.shape)\n",
    "print(img2.shape)\n",
    "\n",
    "img = cv2.resize(img, (512, 512))\n",
    "img2 = cv2.resize(img2, (512, 512))\n",
    "\n",
    "# img3 = cv2.add(img2, img) # adding image\n",
    "img3 = cv2.addWeighted(img, 0.4, img2, 0.6, 0)\n",
    "#img3 = cv2.addWeighted(img, weight1, img2, weight2, img, gamma value)\n",
    "\n",
    "\n",
    "cv2.imshow('image', img3)\n",
    "cv2.waitKey(0)\n",
    "cv2.destroyAllWindows()"
   ]
  },
  {
   "cell_type": "markdown",
   "id": "7b206b6d",
   "metadata": {},
   "source": [
    "### bit-wise operations on images"
   ]
  },
  {
   "cell_type": "markdown",
   "id": "cc08bedf",
   "metadata": {},
   "source": [
    "<img src='logic_table.gif' width=400 height=400>"
   ]
  },
  {
   "cell_type": "markdown",
   "id": "cb0d7adf",
   "metadata": {},
   "source": [
    "## AND"
   ]
  },
  {
   "cell_type": "code",
   "execution_count": 6,
   "id": "f3f4cd70",
   "metadata": {},
   "outputs": [],
   "source": [
    "import cv2\n",
    "\n",
    "img1 = cv2.imread('1bit1.png')\n",
    "img2 = cv2.imread('2bit2.png')\n",
    "\n",
    "bitWisAnd = cv2.bitwise_and(img2, img1)\n",
    "\n",
    "cv2.imshow('img1', img1)\n",
    "cv2.imshow('img2', img2)\n",
    "cv2.imshow('bitWiseAnd',bitWisAnd)\n",
    "\n",
    "if cv2.waitKey(0) & 0xff == 27:\n",
    "    cv2.destroyAllWindows()"
   ]
  },
  {
   "cell_type": "markdown",
   "id": "8fbcfde9",
   "metadata": {},
   "source": [
    "## OR"
   ]
  },
  {
   "cell_type": "code",
   "execution_count": 7,
   "id": "063eb288",
   "metadata": {},
   "outputs": [],
   "source": [
    "import cv2\n",
    "\n",
    "img1 = cv2.imread('1bit1.png')\n",
    "img2 = cv2.imread('2bit2.png')\n",
    "\n",
    "bitWisOr = cv2.bitwise_or(img2, img1)\n",
    "\n",
    "cv2.imshow('img1', img1)\n",
    "cv2.imshow('img2', img2)\n",
    "cv2.imshow('bitWiseOr', bitWisOr)\n",
    "\n",
    "if cv2.waitKey(0) & 0xff == 27:\n",
    "    cv2.destroyAllWindows()"
   ]
  },
  {
   "cell_type": "markdown",
   "id": "a64fe2dd",
   "metadata": {},
   "source": [
    "## NOT"
   ]
  },
  {
   "cell_type": "code",
   "execution_count": 14,
   "id": "c0eeea4c",
   "metadata": {},
   "outputs": [],
   "source": [
    "import cv2\n",
    "\n",
    "img1 = cv2.imread('1bit1.png')\n",
    "img2 = cv2.imread('2bit2.png')\n",
    "\n",
    "bitWiseNot = cv2.bitwise_not(img2, img1)\n",
    "\n",
    "cv2.imshow('img1', img1)\n",
    "cv2.imshow('img2', img2)\n",
    "cv2.imshow('bitWiseNOt', bitWiseNot)\n",
    "\n",
    "if cv2.waitKey(0) & 0xff == 27:\n",
    "    cv2.destroyAllWindows()"
   ]
  },
  {
   "cell_type": "markdown",
   "id": "be62ffbd",
   "metadata": {},
   "source": [
    "## XOR"
   ]
  },
  {
   "cell_type": "code",
   "execution_count": 17,
   "id": "aa544bf6",
   "metadata": {},
   "outputs": [],
   "source": [
    "import cv2\n",
    "\n",
    "img1 = cv2.imread('1bit1.png')\n",
    "img2 = cv2.imread('2bit2.png')\n",
    "\n",
    "bitWiseXOR = cv2.bitwise_xor(img2, img1)\n",
    "\n",
    "cv2.imshow('img1', img1)\n",
    "cv2.imshow('img2', img2)\n",
    "cv2.imshow('bitWiseNot', bitWiseXOR)\n",
    "\n",
    "if cv2.waitKey(0) & 0xff == 27:\n",
    "    cv2.destroyAllWindows()"
   ]
  },
  {
   "cell_type": "markdown",
   "id": "e895412c",
   "metadata": {},
   "source": [
    "## Bind Trackbar To OpenCV Windows"
   ]
  },
  {
   "cell_type": "code",
   "execution_count": 14,
   "id": "a142d042",
   "metadata": {},
   "outputs": [],
   "source": [
    "import numpy as np\n",
    "import cv2 \n",
    "\n",
    "def nothing(x): # call back function if will be called when ever the value of trackbar changed\n",
    "    # print(x)\n",
    "    pass\n",
    "\n",
    "img = np.zeros((300, 512, 3), np.uint8)\n",
    "cv2.namedWindow('image') # named window\n",
    "\n",
    "# Here create named window so that we can pass the name of window to createTrackbar \n",
    "cv2.createTrackbar('B', 'image', 0, 255, nothing)\n",
    "cv2.createTrackbar('G', 'image', 0, 255, nothing)\n",
    "cv2.createTrackbar('R', 'image', 0, 255, nothing)\n",
    "# cv2.createTrackbar(trackbarName, windowName, value, count, onChange)\n",
    "\n",
    "\n",
    "\n",
    "while(True):\n",
    "    cv2.imshow('image', img)\n",
    "    k = cv2.waitKey(1) & 0xFF\n",
    "    if k == 27:\n",
    "        break\n",
    "\n",
    "    r = cv2.getTrackbarPos('R', 'image')\n",
    "    g = cv2.getTrackbarPos('G', 'image')\n",
    "    b = cv2.getTrackbarPos('B', 'image')\n",
    "\n",
    "    img[:] = [b, g, r]\n",
    "     \n",
    "\n",
    "\n",
    "cv2.destroyAllWindows()"
   ]
  },
  {
   "attachments": {
    "image.png": {
     "image/png": "[encoded data removed]"
    }
   },
   "cell_type": "markdown",
   "id": "8298f9e2",
   "metadata": {},
   "source": [
    "<div>\n",
    "<img src=\"attachment:image.png\" width=\"300\"/>\n",
    "</div>"
   ]
  },
  {
   "cell_type": "markdown",
   "id": "641ac160",
   "metadata": {},
   "source": [
    "## Adding switch"
   ]
  },
  {
   "cell_type": "code",
   "execution_count": 3,
   "id": "72a57b71",
   "metadata": {},
   "outputs": [],
   "source": [
    "import numpy as np\n",
    "import cv2 \n",
    "\n",
    "def nothing(x):\n",
    "    pass\n",
    "\n",
    "img = np.zeros((300, 512, 3), np.uint8)\n",
    "cv2.namedWindow('image')\n",
    "\n",
    "\n",
    "cv2.createTrackbar('B', 'image', 0, 255, nothing)\n",
    "cv2.createTrackbar('G', 'image', 0, 255, nothing)\n",
    "cv2.createTrackbar('R', 'image', 0, 255, nothing)\n",
    "\n",
    "switch = '0 : OFF\\n 1: ON'\n",
    "cv2.createTrackbar(switch, 'image', 0, 1, nothing)\n",
    "\n",
    "\n",
    "while(True):\n",
    "    cv2.imshow('image', img)\n",
    "    k = cv2.waitKey(1) & 0xFF\n",
    "    if k == 27:\n",
    "        break\n",
    "\n",
    "    r = cv2.getTrackbarPos('R', 'image')\n",
    "    g = cv2.getTrackbarPos('G', 'image')\n",
    "    b = cv2.getTrackbarPos('B', 'image')\n",
    "    s = cv2.getTrackbarPos(switch, 'image')\n",
    "    \n",
    "    if s == 0:\n",
    "        img[:] = 0\n",
    "    else:\n",
    "        img[:] = [b, g, r]\n",
    "     \n",
    "cv2.destroyAllWindows()"
   ]
  },
  {
   "attachments": {
    "image.png": {
     "image/png": "[encoded data removed]"
    }
   },
   "cell_type": "markdown",
   "id": "cf9d1315",
   "metadata": {},
   "source": [
    "<div>\n",
    "<img src=\"attachment:image.png\" width=\"300\"/>\n",
    "</div>"
   ]
  },
  {
   "cell_type": "code",
   "execution_count": null,
   "id": "ade5444e",
   "metadata": {},
   "outputs": [],
   "source": []
  },
  {
   "cell_type": "code",
   "execution_count": 5,
   "id": "6155f03c",
   "metadata": {},
   "outputs": [],
   "source": [
    "import numpy as np\n",
    "import cv2 as cv\n",
    "\n",
    "def nothing(x):\n",
    "    pass\n",
    "#     print(x)\n",
    "\n",
    "# Create a black image, a window\n",
    "cv.namedWindow('image')\n",
    "\n",
    "cv.createTrackbar('CP', 'image', 10, 400, nothing)\n",
    "\n",
    "switch = 'color/gray'\n",
    "cv.createTrackbar(switch, 'image', 0, 1, nothing)\n",
    "\n",
    "while(1):\n",
    "    img = cv.imread('lena.jpg')\n",
    "    pos = cv.getTrackbarPos('CP', 'image')\n",
    "    font = cv.FONT_HERSHEY_SIMPLEX\n",
    "    cv.putText(img, str(pos), (50, 150), font, 6, (0, 0, 255), 10)\n",
    "    s = cv.getTrackbarPos(switch, 'image')\n",
    "\n",
    "    k = cv.waitKey(1) & 0xFF\n",
    "    if k == 27:\n",
    "        break\n",
    "        \n",
    "    if s == 0:\n",
    "        pass\n",
    "    else:\n",
    "        img = cv.cvtColor(img, cv.COLOR_BGR2GRAY)\n",
    "\n",
    "    img = cv.imshow('image',img)\n",
    "\n",
    "cv.destroyAllWindows()"
   ]
  },
  {
   "cell_type": "markdown",
   "id": "1b1257cb",
   "metadata": {},
   "source": []
  },
  {
   "cell_type": "code",
   "execution_count": null,
   "id": "cb8bcf0d",
   "metadata": {},
   "outputs": [],
   "source": []
  },
  {
   "cell_type": "code",
   "execution_count": null,
   "id": "e236f179",
   "metadata": {},
   "outputs": [],
   "source": []
  },
  {
   "cell_type": "code",
   "execution_count": null,
   "id": "f4fbd032",
   "metadata": {},
   "outputs": [],
   "source": []
  },
  {
   "cell_type": "code",
   "execution_count": null,
   "id": "17bdd413",
   "metadata": {},
   "outputs": [],
   "source": []
  },
  {
   "cell_type": "code",
   "execution_count": null,
   "id": "df84576d",
   "metadata": {},
   "outputs": [],
   "source": []
  }
 ],
 "metadata": {
  "kernelspec": {
   "display_name": "Python 3 (ipykernel)",
   "language": "python",
   "name": "python3"
  },
  "language_info": {
   "codemirror_mode": {
    "name": "ipython",
    "version": 3
   },
   "file_extension": ".py",
   "mimetype": "text/x-python",
   "name": "python",
   "nbconvert_exporter": "python",
   "pygments_lexer": "ipython3",
   "version": "3.9.12"
  }
 },
 "nbformat": 4,
 "nbformat_minor": 5
}
