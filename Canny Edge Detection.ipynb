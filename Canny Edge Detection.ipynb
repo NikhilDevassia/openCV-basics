{
 "cells": [
  {
   "cell_type": "markdown",
   "id": "429bf91a",
   "metadata": {},
   "source": [
    "5 steps<br>\n",
    "1) Noise Reduction - Done by Gaussian filter<br>\n",
    "2) Gradient Calculation - Rapid intensity values in an image<br>\n",
    "3) Non-Maximum Suppression - Help to remove unwanted edges<br>\n",
    "4) Double Thresholding - Confirm edges<br>\n",
    "5) Hysteresis - Remove non connected edges between minValue and maxValue<br>"
   ]
  },
  {
   "cell_type": "code",
   "execution_count": 4,
   "id": "8121804e",
   "metadata": {},
   "outputs": [],
   "source": [
    "import cv2\n",
    "import numpy as np\n",
    "\n",
    "img = cv2.imread('data/lena.jpg')\n",
    "imgray = cv2.cvtColor(img, cv2.COLOR_BGR2GRAY)\n",
    "\n",
    "# Performing edge detection\n",
    "gradients_sobelx = cv2.Sobel(imgray, -1, 1, 0) \n",
    "gradients_sobely = cv2.Sobel(imgray, -1, 0, 1)\n",
    "gradients_sobelxy = cv2.addWeighted(gradients_sobelx, 0.5, gradients_sobely, 0.5, 0)\n",
    "\n",
    "gradients_laplacian = cv2.Laplacian(imgray, -1)\n",
    "\n",
    "# if intensity of edges less than 80 then remove \n",
    "# the edges between 80 and 150 will be considered by Hysteresis\n",
    "canny_output = cv2.Canny(imgray, 80, 150)\n",
    "\n",
    "cv2.imshow('orginal', imgray)\n",
    "cv2.imshow('sobelx', gradients_sobelx)\n",
    "cv2.imshow('sobely', gradients_sobely)\n",
    "cv2.imshow('sobelxy', gradients_sobelxy)\n",
    "cv2.imshow('laplacian', gradients_laplacian)\n",
    "cv2.imshow('Canny', canny_output)\n",
    "\n",
    "cv2.waitKey(0)\n",
    "cv2.destroyAllWindows()"
   ]
  },
  {
   "cell_type": "code",
   "execution_count": null,
   "id": "d3e7baa2",
   "metadata": {},
   "outputs": [],
   "source": []
  },
  {
   "cell_type": "code",
   "execution_count": null,
   "id": "b5db2463",
   "metadata": {},
   "outputs": [],
   "source": []
  },
  {
   "cell_type": "code",
   "execution_count": null,
   "id": "d81a3574",
   "metadata": {},
   "outputs": [],
   "source": []
  },
  {
   "cell_type": "code",
   "execution_count": null,
   "id": "1f3f47e1",
   "metadata": {},
   "outputs": [],
   "source": []
  },
  {
   "cell_type": "code",
   "execution_count": null,
   "id": "87d2656a",
   "metadata": {},
   "outputs": [],
   "source": []
  },
  {
   "cell_type": "code",
   "execution_count": null,
   "id": "d0af290e",
   "metadata": {},
   "outputs": [],
   "source": []
  }
 ],
 "metadata": {
  "kernelspec": {
   "display_name": "Python 3 (ipykernel)",
   "language": "python",
   "name": "python3"
  },
  "language_info": {
   "codemirror_mode": {
    "name": "ipython",
    "version": 3
   },
   "file_extension": ".py",
   "mimetype": "text/x-python",
   "name": "python",
   "nbconvert_exporter": "python",
   "pygments_lexer": "ipython3",
   "version": "3.9.12"
  }
 },
 "nbformat": 4,
 "nbformat_minor": 5
}
